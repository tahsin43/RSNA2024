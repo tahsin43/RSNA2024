{
 "cells": [
  {
   "cell_type": "markdown",
   "id": "79e46634",
   "metadata": {
    "execution": {
     "iopub.execute_input": "2024-06-12T23:49:53.777034Z",
     "iopub.status.busy": "2024-06-12T23:49:53.776252Z",
     "iopub.status.idle": "2024-06-12T23:49:55.048899Z",
     "shell.execute_reply": "2024-06-12T23:49:55.047589Z",
     "shell.execute_reply.started": "2024-06-12T23:49:53.777Z"
    },
    "papermill": {
     "duration": 0.009651,
     "end_time": "2024-09-15T16:21:12.477434",
     "exception": false,
     "start_time": "2024-09-15T16:21:12.467783",
     "status": "completed"
    },
    "tags": []
   },
   "source": [
    "# RSNA2024 LSDC Making Dataset\n",
    "In this competition, handling the dataset images seems a little difficult.\n",
    "\n",
    "In my method, the instance numbers specified for each condition and level are used as part of the input image, and a total of 25 channels of input images are collected for each study ID.\n",
    "\n",
    "### My other Notebooks\n",
    "- [RSNA2024 LSDC Making Dataset](https://www.kaggle.com/code/itsuki9180/rsna2024-lsdc-making-dataset) <- you're reading now\n",
    "- [RSNA2024 LSDC Training Baseline](https://www.kaggle.com/code/itsuki9180/rsna2024-lsdc-training-baseline)\n",
    "- [RSNA2024 LSDC Submission Baseline](https://www.kaggle.com/code/itsuki9180/rsna2024-lsdc-submission-baseline)\n",
    "\n"
   ]
  },
  {
   "cell_type": "markdown",
   "id": "43e6e2b7",
   "metadata": {
    "papermill": {
     "duration": 0.008561,
     "end_time": "2024-09-15T16:21:12.495013",
     "exception": false,
     "start_time": "2024-09-15T16:21:12.486452",
     "status": "completed"
    },
    "tags": []
   },
   "source": [
    "# Import Libralies"
   ]
  },
  {
   "cell_type": "code",
   "execution_count": 1,
   "id": "2a23975b",
   "metadata": {
    "execution": {
     "iopub.execute_input": "2024-09-15T16:21:12.514375Z",
     "iopub.status.busy": "2024-09-15T16:21:12.513944Z",
     "iopub.status.idle": "2024-09-15T16:21:14.042099Z",
     "shell.execute_reply": "2024-09-15T16:21:14.040318Z"
    },
    "papermill": {
     "duration": 1.541799,
     "end_time": "2024-09-15T16:21:14.045485",
     "exception": false,
     "start_time": "2024-09-15T16:21:12.503686",
     "status": "completed"
    },
    "tags": []
   },
   "outputs": [],
   "source": [
    "import pydicom\n",
    "import glob, os\n",
    "import matplotlib.pyplot as plt\n",
    "import pandas as pd\n",
    "import numpy as np\n",
    "import cv2\n",
    "from tqdm import tqdm\n",
    "import re"
   ]
  },
  {
   "cell_type": "code",
   "execution_count": 2,
   "id": "5788bfba",
   "metadata": {
    "execution": {
     "iopub.execute_input": "2024-09-15T16:21:14.064623Z",
     "iopub.status.busy": "2024-09-15T16:21:14.064002Z",
     "iopub.status.idle": "2024-09-15T16:21:14.069987Z",
     "shell.execute_reply": "2024-09-15T16:21:14.068717Z"
    },
    "papermill": {
     "duration": 0.019073,
     "end_time": "2024-09-15T16:21:14.073068",
     "exception": false,
     "start_time": "2024-09-15T16:21:14.053995",
     "status": "completed"
    },
    "tags": []
   },
   "outputs": [],
   "source": [
    "rd = '/kaggle/input/rsna-2024-lumbar-spine-degenerative-classification'"
   ]
  },
  {
   "cell_type": "code",
   "execution_count": 3,
   "id": "2fccde57",
   "metadata": {
    "execution": {
     "iopub.execute_input": "2024-09-15T16:21:14.093168Z",
     "iopub.status.busy": "2024-09-15T16:21:14.092745Z",
     "iopub.status.idle": "2024-09-15T16:21:14.100060Z",
     "shell.execute_reply": "2024-09-15T16:21:14.098457Z"
    },
    "papermill": {
     "duration": 0.021436,
     "end_time": "2024-09-15T16:21:14.103467",
     "exception": false,
     "start_time": "2024-09-15T16:21:14.082031",
     "status": "completed"
    },
    "tags": []
   },
   "outputs": [],
   "source": [
    "def atoi(text):\n",
    "    return int(text) if text.isdigit() else text\n",
    "\n",
    "def natural_keys(text):\n",
    "    return [ atoi(c) for c in re.split(r'(\\d+)', text) ]"
   ]
  },
  {
   "cell_type": "markdown",
   "id": "d93e7af8",
   "metadata": {
    "papermill": {
     "duration": 0.010952,
     "end_time": "2024-09-15T16:21:14.125528",
     "exception": false,
     "start_time": "2024-09-15T16:21:14.114576",
     "status": "completed"
    },
    "tags": []
   },
   "source": [
    "# Reading and Taking a look csv"
   ]
  },
  {
   "cell_type": "code",
   "execution_count": 4,
   "id": "28ea6876",
   "metadata": {
    "execution": {
     "iopub.execute_input": "2024-09-15T16:21:14.149985Z",
     "iopub.status.busy": "2024-09-15T16:21:14.148449Z",
     "iopub.status.idle": "2024-09-15T16:21:14.334636Z",
     "shell.execute_reply": "2024-09-15T16:21:14.333217Z"
    },
    "papermill": {
     "duration": 0.200526,
     "end_time": "2024-09-15T16:21:14.337812",
     "exception": false,
     "start_time": "2024-09-15T16:21:14.137286",
     "status": "completed"
    },
    "tags": []
   },
   "outputs": [],
   "source": [
    "dfc = pd.read_csv(f'{rd}/train_label_coordinates.csv')"
   ]
  },
  {
   "cell_type": "code",
   "execution_count": 5,
   "id": "869517d6",
   "metadata": {
    "execution": {
     "iopub.execute_input": "2024-09-15T16:21:14.364637Z",
     "iopub.status.busy": "2024-09-15T16:21:14.364094Z",
     "iopub.status.idle": "2024-09-15T16:21:14.413905Z",
     "shell.execute_reply": "2024-09-15T16:21:14.411102Z"
    },
    "papermill": {
     "duration": 0.069903,
     "end_time": "2024-09-15T16:21:14.417942",
     "exception": false,
     "start_time": "2024-09-15T16:21:14.348039",
     "status": "completed"
    },
    "tags": []
   },
   "outputs": [
    {
     "data": {
      "text/html": [
       "<div>\n",
       "<style scoped>\n",
       "    .dataframe tbody tr th:only-of-type {\n",
       "        vertical-align: middle;\n",
       "    }\n",
       "\n",
       "    .dataframe tbody tr th {\n",
       "        vertical-align: top;\n",
       "    }\n",
       "\n",
       "    .dataframe thead th {\n",
       "        text-align: right;\n",
       "    }\n",
       "</style>\n",
       "<table border=\"1\" class=\"dataframe\">\n",
       "  <thead>\n",
       "    <tr style=\"text-align: right;\">\n",
       "      <th></th>\n",
       "      <th>study_id</th>\n",
       "      <th>series_id</th>\n",
       "      <th>series_description</th>\n",
       "    </tr>\n",
       "  </thead>\n",
       "  <tbody>\n",
       "    <tr>\n",
       "      <th>0</th>\n",
       "      <td>4003253</td>\n",
       "      <td>702807833</td>\n",
       "      <td>Sagittal T2/STIR</td>\n",
       "    </tr>\n",
       "    <tr>\n",
       "      <th>1</th>\n",
       "      <td>4003253</td>\n",
       "      <td>1054713880</td>\n",
       "      <td>Sagittal T1</td>\n",
       "    </tr>\n",
       "    <tr>\n",
       "      <th>2</th>\n",
       "      <td>4003253</td>\n",
       "      <td>2448190387</td>\n",
       "      <td>Axial T2</td>\n",
       "    </tr>\n",
       "    <tr>\n",
       "      <th>3</th>\n",
       "      <td>4646740</td>\n",
       "      <td>3201256954</td>\n",
       "      <td>Axial T2</td>\n",
       "    </tr>\n",
       "    <tr>\n",
       "      <th>4</th>\n",
       "      <td>4646740</td>\n",
       "      <td>3486248476</td>\n",
       "      <td>Sagittal T1</td>\n",
       "    </tr>\n",
       "  </tbody>\n",
       "</table>\n",
       "</div>"
      ],
      "text/plain": [
       "   study_id   series_id series_description\n",
       "0   4003253   702807833   Sagittal T2/STIR\n",
       "1   4003253  1054713880        Sagittal T1\n",
       "2   4003253  2448190387           Axial T2\n",
       "3   4646740  3201256954           Axial T2\n",
       "4   4646740  3486248476        Sagittal T1"
      ]
     },
     "execution_count": 5,
     "metadata": {},
     "output_type": "execute_result"
    }
   ],
   "source": [
    "df = pd.read_csv(f'{rd}/train_series_descriptions.csv')\n",
    "df.head()"
   ]
  },
  {
   "cell_type": "markdown",
   "id": "1941aa22",
   "metadata": {
    "papermill": {
     "duration": 0.009128,
     "end_time": "2024-09-15T16:21:14.439517",
     "exception": false,
     "start_time": "2024-09-15T16:21:14.430389",
     "status": "completed"
    },
    "tags": []
   },
   "source": [
    "For each study_id, we can observe 3 to 6 series_ids."
   ]
  },
  {
   "cell_type": "code",
   "execution_count": 6,
   "id": "31272f9e",
   "metadata": {
    "execution": {
     "iopub.execute_input": "2024-09-15T16:21:14.460236Z",
     "iopub.status.busy": "2024-09-15T16:21:14.458975Z",
     "iopub.status.idle": "2024-09-15T16:21:14.475847Z",
     "shell.execute_reply": "2024-09-15T16:21:14.474186Z"
    },
    "papermill": {
     "duration": 0.030475,
     "end_time": "2024-09-15T16:21:14.479021",
     "exception": false,
     "start_time": "2024-09-15T16:21:14.448546",
     "status": "completed"
    },
    "tags": []
   },
   "outputs": [
    {
     "data": {
      "text/plain": [
       "series_description\n",
       "Axial T2            2340\n",
       "Sagittal T1         1980\n",
       "Sagittal T2/STIR    1974\n",
       "Name: count, dtype: int64"
      ]
     },
     "execution_count": 6,
     "metadata": {},
     "output_type": "execute_result"
    }
   ],
   "source": [
    "df['series_description'].value_counts()"
   ]
  },
  {
   "cell_type": "markdown",
   "id": "f6717ca3",
   "metadata": {
    "papermill": {
     "duration": 0.012054,
     "end_time": "2024-09-15T16:21:14.500464",
     "exception": false,
     "start_time": "2024-09-15T16:21:14.488410",
     "status": "completed"
    },
    "tags": []
   },
   "source": [
    "We note that most study_ids with four or more series_ids have two or more Axial T2s."
   ]
  },
  {
   "cell_type": "code",
   "execution_count": 7,
   "id": "f875d828",
   "metadata": {
    "execution": {
     "iopub.execute_input": "2024-09-15T16:21:14.525567Z",
     "iopub.status.busy": "2024-09-15T16:21:14.523902Z",
     "iopub.status.idle": "2024-09-15T16:21:14.548783Z",
     "shell.execute_reply": "2024-09-15T16:21:14.547283Z"
    },
    "papermill": {
     "duration": 0.041969,
     "end_time": "2024-09-15T16:21:14.552359",
     "exception": false,
     "start_time": "2024-09-15T16:21:14.510390",
     "status": "completed"
    },
    "tags": []
   },
   "outputs": [
    {
     "data": {
      "text/html": [
       "<div>\n",
       "<style scoped>\n",
       "    .dataframe tbody tr th:only-of-type {\n",
       "        vertical-align: middle;\n",
       "    }\n",
       "\n",
       "    .dataframe tbody tr th {\n",
       "        vertical-align: top;\n",
       "    }\n",
       "\n",
       "    .dataframe thead th {\n",
       "        text-align: right;\n",
       "    }\n",
       "</style>\n",
       "<table border=\"1\" class=\"dataframe\">\n",
       "  <thead>\n",
       "    <tr style=\"text-align: right;\">\n",
       "      <th></th>\n",
       "      <th>study_id</th>\n",
       "      <th>series_id</th>\n",
       "      <th>series_description</th>\n",
       "    </tr>\n",
       "  </thead>\n",
       "  <tbody>\n",
       "    <tr>\n",
       "      <th>5997</th>\n",
       "      <td>4096820034</td>\n",
       "      <td>300517765</td>\n",
       "      <td>Axial T2</td>\n",
       "    </tr>\n",
       "    <tr>\n",
       "      <th>5998</th>\n",
       "      <td>4096820034</td>\n",
       "      <td>2097107888</td>\n",
       "      <td>Axial T2</td>\n",
       "    </tr>\n",
       "    <tr>\n",
       "      <th>5999</th>\n",
       "      <td>4096820034</td>\n",
       "      <td>2602265508</td>\n",
       "      <td>Sagittal T2/STIR</td>\n",
       "    </tr>\n",
       "    <tr>\n",
       "      <th>6000</th>\n",
       "      <td>4096820034</td>\n",
       "      <td>2679683906</td>\n",
       "      <td>Axial T2</td>\n",
       "    </tr>\n",
       "    <tr>\n",
       "      <th>6001</th>\n",
       "      <td>4096820034</td>\n",
       "      <td>3114813181</td>\n",
       "      <td>Axial T2</td>\n",
       "    </tr>\n",
       "    <tr>\n",
       "      <th>6002</th>\n",
       "      <td>4096820034</td>\n",
       "      <td>3236751045</td>\n",
       "      <td>Sagittal T1</td>\n",
       "    </tr>\n",
       "  </tbody>\n",
       "</table>\n",
       "</div>"
      ],
      "text/plain": [
       "        study_id   series_id series_description\n",
       "5997  4096820034   300517765           Axial T2\n",
       "5998  4096820034  2097107888           Axial T2\n",
       "5999  4096820034  2602265508   Sagittal T2/STIR\n",
       "6000  4096820034  2679683906           Axial T2\n",
       "6001  4096820034  3114813181           Axial T2\n",
       "6002  4096820034  3236751045        Sagittal T1"
      ]
     },
     "execution_count": 7,
     "metadata": {},
     "output_type": "execute_result"
    }
   ],
   "source": [
    "df[df['study_id']==4096820034]"
   ]
  },
  {
   "cell_type": "code",
   "execution_count": 8,
   "id": "f18aa323",
   "metadata": {
    "execution": {
     "iopub.execute_input": "2024-09-15T16:21:14.582213Z",
     "iopub.status.busy": "2024-09-15T16:21:14.581690Z",
     "iopub.status.idle": "2024-09-15T16:21:14.606970Z",
     "shell.execute_reply": "2024-09-15T16:21:14.605451Z"
    },
    "papermill": {
     "duration": 0.043492,
     "end_time": "2024-09-15T16:21:14.610156",
     "exception": false,
     "start_time": "2024-09-15T16:21:14.566664",
     "status": "completed"
    },
    "tags": []
   },
   "outputs": [
    {
     "data": {
      "text/html": [
       "<div>\n",
       "<style scoped>\n",
       "    .dataframe tbody tr th:only-of-type {\n",
       "        vertical-align: middle;\n",
       "    }\n",
       "\n",
       "    .dataframe tbody tr th {\n",
       "        vertical-align: top;\n",
       "    }\n",
       "\n",
       "    .dataframe thead th {\n",
       "        text-align: right;\n",
       "    }\n",
       "</style>\n",
       "<table border=\"1\" class=\"dataframe\">\n",
       "  <thead>\n",
       "    <tr style=\"text-align: right;\">\n",
       "      <th></th>\n",
       "      <th>study_id</th>\n",
       "      <th>series_id</th>\n",
       "      <th>instance_number</th>\n",
       "      <th>condition</th>\n",
       "      <th>level</th>\n",
       "      <th>x</th>\n",
       "      <th>y</th>\n",
       "    </tr>\n",
       "  </thead>\n",
       "  <tbody>\n",
       "    <tr>\n",
       "      <th>46392</th>\n",
       "      <td>4096820034</td>\n",
       "      <td>300517765</td>\n",
       "      <td>5</td>\n",
       "      <td>Right Subarticular Stenosis</td>\n",
       "      <td>L4/L5</td>\n",
       "      <td>305.500000</td>\n",
       "      <td>372.444444</td>\n",
       "    </tr>\n",
       "    <tr>\n",
       "      <th>46393</th>\n",
       "      <td>4096820034</td>\n",
       "      <td>300517765</td>\n",
       "      <td>11</td>\n",
       "      <td>Right Subarticular Stenosis</td>\n",
       "      <td>L5/S1</td>\n",
       "      <td>298.388889</td>\n",
       "      <td>358.222222</td>\n",
       "    </tr>\n",
       "    <tr>\n",
       "      <th>46394</th>\n",
       "      <td>4096820034</td>\n",
       "      <td>2097107888</td>\n",
       "      <td>10</td>\n",
       "      <td>Left Subarticular Stenosis</td>\n",
       "      <td>L1/L2</td>\n",
       "      <td>348.379062</td>\n",
       "      <td>378.070442</td>\n",
       "    </tr>\n",
       "    <tr>\n",
       "      <th>46395</th>\n",
       "      <td>4096820034</td>\n",
       "      <td>2097107888</td>\n",
       "      <td>16</td>\n",
       "      <td>Left Subarticular Stenosis</td>\n",
       "      <td>L2/L3</td>\n",
       "      <td>344.193491</td>\n",
       "      <td>369.699299</td>\n",
       "    </tr>\n",
       "    <tr>\n",
       "      <th>46396</th>\n",
       "      <td>4096820034</td>\n",
       "      <td>2097107888</td>\n",
       "      <td>22</td>\n",
       "      <td>Left Subarticular Stenosis</td>\n",
       "      <td>L3/L4</td>\n",
       "      <td>342.100705</td>\n",
       "      <td>359.235371</td>\n",
       "    </tr>\n",
       "    <tr>\n",
       "      <th>46397</th>\n",
       "      <td>4096820034</td>\n",
       "      <td>2602265508</td>\n",
       "      <td>7</td>\n",
       "      <td>Spinal Canal Stenosis</td>\n",
       "      <td>L1/L2</td>\n",
       "      <td>268.706316</td>\n",
       "      <td>88.525822</td>\n",
       "    </tr>\n",
       "    <tr>\n",
       "      <th>46398</th>\n",
       "      <td>4096820034</td>\n",
       "      <td>2602265508</td>\n",
       "      <td>7</td>\n",
       "      <td>Spinal Canal Stenosis</td>\n",
       "      <td>L2/L3</td>\n",
       "      <td>257.288476</td>\n",
       "      <td>135.399061</td>\n",
       "    </tr>\n",
       "    <tr>\n",
       "      <th>46399</th>\n",
       "      <td>4096820034</td>\n",
       "      <td>2602265508</td>\n",
       "      <td>7</td>\n",
       "      <td>Spinal Canal Stenosis</td>\n",
       "      <td>L3/L4</td>\n",
       "      <td>247.673452</td>\n",
       "      <td>180.469484</td>\n",
       "    </tr>\n",
       "    <tr>\n",
       "      <th>46400</th>\n",
       "      <td>4096820034</td>\n",
       "      <td>2602265508</td>\n",
       "      <td>7</td>\n",
       "      <td>Spinal Canal Stenosis</td>\n",
       "      <td>L4/L5</td>\n",
       "      <td>244.668757</td>\n",
       "      <td>220.732394</td>\n",
       "    </tr>\n",
       "    <tr>\n",
       "      <th>46401</th>\n",
       "      <td>4096820034</td>\n",
       "      <td>2602265508</td>\n",
       "      <td>7</td>\n",
       "      <td>Spinal Canal Stenosis</td>\n",
       "      <td>L5/S1</td>\n",
       "      <td>253.081903</td>\n",
       "      <td>260.394366</td>\n",
       "    </tr>\n",
       "    <tr>\n",
       "      <th>46402</th>\n",
       "      <td>4096820034</td>\n",
       "      <td>2679683906</td>\n",
       "      <td>10</td>\n",
       "      <td>Right Subarticular Stenosis</td>\n",
       "      <td>L1/L2</td>\n",
       "      <td>291.277778</td>\n",
       "      <td>372.444444</td>\n",
       "    </tr>\n",
       "    <tr>\n",
       "      <th>46403</th>\n",
       "      <td>4096820034</td>\n",
       "      <td>2679683906</td>\n",
       "      <td>17</td>\n",
       "      <td>Right Subarticular Stenosis</td>\n",
       "      <td>L2/L3</td>\n",
       "      <td>293.055556</td>\n",
       "      <td>367.111111</td>\n",
       "    </tr>\n",
       "    <tr>\n",
       "      <th>46404</th>\n",
       "      <td>4096820034</td>\n",
       "      <td>2679683906</td>\n",
       "      <td>23</td>\n",
       "      <td>Right Subarticular Stenosis</td>\n",
       "      <td>L3/L4</td>\n",
       "      <td>300.166667</td>\n",
       "      <td>363.555556</td>\n",
       "    </tr>\n",
       "    <tr>\n",
       "      <th>46405</th>\n",
       "      <td>4096820034</td>\n",
       "      <td>3114813181</td>\n",
       "      <td>10</td>\n",
       "      <td>Left Subarticular Stenosis</td>\n",
       "      <td>L4/L5</td>\n",
       "      <td>343.958035</td>\n",
       "      <td>355.402957</td>\n",
       "    </tr>\n",
       "    <tr>\n",
       "      <th>46406</th>\n",
       "      <td>4096820034</td>\n",
       "      <td>3114813181</td>\n",
       "      <td>14</td>\n",
       "      <td>Left Subarticular Stenosis</td>\n",
       "      <td>L5/S1</td>\n",
       "      <td>347.620410</td>\n",
       "      <td>369.442060</td>\n",
       "    </tr>\n",
       "    <tr>\n",
       "      <th>46407</th>\n",
       "      <td>4096820034</td>\n",
       "      <td>3236751045</td>\n",
       "      <td>3</td>\n",
       "      <td>Left Neural Foraminal Narrowing</td>\n",
       "      <td>L5/S1</td>\n",
       "      <td>193.478070</td>\n",
       "      <td>222.877193</td>\n",
       "    </tr>\n",
       "    <tr>\n",
       "      <th>46408</th>\n",
       "      <td>4096820034</td>\n",
       "      <td>3236751045</td>\n",
       "      <td>4</td>\n",
       "      <td>Left Neural Foraminal Narrowing</td>\n",
       "      <td>L2/L3</td>\n",
       "      <td>208.074561</td>\n",
       "      <td>110.035088</td>\n",
       "    </tr>\n",
       "    <tr>\n",
       "      <th>46409</th>\n",
       "      <td>4096820034</td>\n",
       "      <td>3236751045</td>\n",
       "      <td>4</td>\n",
       "      <td>Left Neural Foraminal Narrowing</td>\n",
       "      <td>L3/L4</td>\n",
       "      <td>200.214912</td>\n",
       "      <td>147.649123</td>\n",
       "    </tr>\n",
       "    <tr>\n",
       "      <th>46410</th>\n",
       "      <td>4096820034</td>\n",
       "      <td>3236751045</td>\n",
       "      <td>4</td>\n",
       "      <td>Left Neural Foraminal Narrowing</td>\n",
       "      <td>L4/L5</td>\n",
       "      <td>193.478070</td>\n",
       "      <td>186.947368</td>\n",
       "    </tr>\n",
       "    <tr>\n",
       "      <th>46411</th>\n",
       "      <td>4096820034</td>\n",
       "      <td>3236751045</td>\n",
       "      <td>5</td>\n",
       "      <td>Left Neural Foraminal Narrowing</td>\n",
       "      <td>L1/L2</td>\n",
       "      <td>213.127193</td>\n",
       "      <td>70.175439</td>\n",
       "    </tr>\n",
       "    <tr>\n",
       "      <th>46412</th>\n",
       "      <td>4096820034</td>\n",
       "      <td>3236751045</td>\n",
       "      <td>10</td>\n",
       "      <td>Right Neural Foraminal Narrowing</td>\n",
       "      <td>L1/L2</td>\n",
       "      <td>215.447845</td>\n",
       "      <td>72.773436</td>\n",
       "    </tr>\n",
       "    <tr>\n",
       "      <th>46413</th>\n",
       "      <td>4096820034</td>\n",
       "      <td>3236751045</td>\n",
       "      <td>11</td>\n",
       "      <td>Right Neural Foraminal Narrowing</td>\n",
       "      <td>L2/L3</td>\n",
       "      <td>206.650697</td>\n",
       "      <td>109.831496</td>\n",
       "    </tr>\n",
       "    <tr>\n",
       "      <th>46414</th>\n",
       "      <td>4096820034</td>\n",
       "      <td>3236751045</td>\n",
       "      <td>11</td>\n",
       "      <td>Right Neural Foraminal Narrowing</td>\n",
       "      <td>L3/L4</td>\n",
       "      <td>199.745435</td>\n",
       "      <td>147.215119</td>\n",
       "    </tr>\n",
       "    <tr>\n",
       "      <th>46415</th>\n",
       "      <td>4096820034</td>\n",
       "      <td>3236751045</td>\n",
       "      <td>11</td>\n",
       "      <td>Right Neural Foraminal Narrowing</td>\n",
       "      <td>L4/L5</td>\n",
       "      <td>195.372648</td>\n",
       "      <td>186.164978</td>\n",
       "    </tr>\n",
       "    <tr>\n",
       "      <th>46416</th>\n",
       "      <td>4096820034</td>\n",
       "      <td>3236751045</td>\n",
       "      <td>11</td>\n",
       "      <td>Right Neural Foraminal Narrowing</td>\n",
       "      <td>L5/S1</td>\n",
       "      <td>195.372648</td>\n",
       "      <td>222.749638</td>\n",
       "    </tr>\n",
       "  </tbody>\n",
       "</table>\n",
       "</div>"
      ],
      "text/plain": [
       "         study_id   series_id  instance_number  \\\n",
       "46392  4096820034   300517765                5   \n",
       "46393  4096820034   300517765               11   \n",
       "46394  4096820034  2097107888               10   \n",
       "46395  4096820034  2097107888               16   \n",
       "46396  4096820034  2097107888               22   \n",
       "46397  4096820034  2602265508                7   \n",
       "46398  4096820034  2602265508                7   \n",
       "46399  4096820034  2602265508                7   \n",
       "46400  4096820034  2602265508                7   \n",
       "46401  4096820034  2602265508                7   \n",
       "46402  4096820034  2679683906               10   \n",
       "46403  4096820034  2679683906               17   \n",
       "46404  4096820034  2679683906               23   \n",
       "46405  4096820034  3114813181               10   \n",
       "46406  4096820034  3114813181               14   \n",
       "46407  4096820034  3236751045                3   \n",
       "46408  4096820034  3236751045                4   \n",
       "46409  4096820034  3236751045                4   \n",
       "46410  4096820034  3236751045                4   \n",
       "46411  4096820034  3236751045                5   \n",
       "46412  4096820034  3236751045               10   \n",
       "46413  4096820034  3236751045               11   \n",
       "46414  4096820034  3236751045               11   \n",
       "46415  4096820034  3236751045               11   \n",
       "46416  4096820034  3236751045               11   \n",
       "\n",
       "                              condition  level           x           y  \n",
       "46392       Right Subarticular Stenosis  L4/L5  305.500000  372.444444  \n",
       "46393       Right Subarticular Stenosis  L5/S1  298.388889  358.222222  \n",
       "46394        Left Subarticular Stenosis  L1/L2  348.379062  378.070442  \n",
       "46395        Left Subarticular Stenosis  L2/L3  344.193491  369.699299  \n",
       "46396        Left Subarticular Stenosis  L3/L4  342.100705  359.235371  \n",
       "46397             Spinal Canal Stenosis  L1/L2  268.706316   88.525822  \n",
       "46398             Spinal Canal Stenosis  L2/L3  257.288476  135.399061  \n",
       "46399             Spinal Canal Stenosis  L3/L4  247.673452  180.469484  \n",
       "46400             Spinal Canal Stenosis  L4/L5  244.668757  220.732394  \n",
       "46401             Spinal Canal Stenosis  L5/S1  253.081903  260.394366  \n",
       "46402       Right Subarticular Stenosis  L1/L2  291.277778  372.444444  \n",
       "46403       Right Subarticular Stenosis  L2/L3  293.055556  367.111111  \n",
       "46404       Right Subarticular Stenosis  L3/L4  300.166667  363.555556  \n",
       "46405        Left Subarticular Stenosis  L4/L5  343.958035  355.402957  \n",
       "46406        Left Subarticular Stenosis  L5/S1  347.620410  369.442060  \n",
       "46407   Left Neural Foraminal Narrowing  L5/S1  193.478070  222.877193  \n",
       "46408   Left Neural Foraminal Narrowing  L2/L3  208.074561  110.035088  \n",
       "46409   Left Neural Foraminal Narrowing  L3/L4  200.214912  147.649123  \n",
       "46410   Left Neural Foraminal Narrowing  L4/L5  193.478070  186.947368  \n",
       "46411   Left Neural Foraminal Narrowing  L1/L2  213.127193   70.175439  \n",
       "46412  Right Neural Foraminal Narrowing  L1/L2  215.447845   72.773436  \n",
       "46413  Right Neural Foraminal Narrowing  L2/L3  206.650697  109.831496  \n",
       "46414  Right Neural Foraminal Narrowing  L3/L4  199.745435  147.215119  \n",
       "46415  Right Neural Foraminal Narrowing  L4/L5  195.372648  186.164978  \n",
       "46416  Right Neural Foraminal Narrowing  L5/S1  195.372648  222.749638  "
      ]
     },
     "execution_count": 8,
     "metadata": {},
     "output_type": "execute_result"
    }
   ],
   "source": [
    "dfc[dfc['study_id']==4096820034]"
   ]
  },
  {
   "cell_type": "markdown",
   "id": "bbd51b95",
   "metadata": {
    "papermill": {
     "duration": 0.009483,
     "end_time": "2024-09-15T16:21:14.629965",
     "exception": false,
     "start_time": "2024-09-15T16:21:14.620482",
     "status": "completed"
    },
    "tags": []
   },
   "source": [
    "We can see that it corresponds as follows:\n",
    "\n",
    "- Axial T2 => (Left|Right) Subarticular Stenosis (10 classes)\n",
    "- Sagittal T2/STIR => Spinal Canal Stenosis (5 Classes)\n",
    "- Sagittal T1 => (Left|Right) Neural Foraminal Narrowing (10 classes)"
   ]
  },
  {
   "cell_type": "markdown",
   "id": "71452b0e",
   "metadata": {
    "papermill": {
     "duration": 0.009327,
     "end_time": "2024-09-15T16:21:14.649103",
     "exception": false,
     "start_time": "2024-09-15T16:21:14.639776",
     "status": "completed"
    },
    "tags": []
   },
   "source": [
    "I found it difficult to order Axial T2 well, so we decided to select them randomly during training. For the other two, we will save images at equal intervals."
   ]
  },
  {
   "cell_type": "markdown",
   "id": "12cd6fca",
   "metadata": {
    "papermill": {
     "duration": 0.0092,
     "end_time": "2024-09-15T16:21:14.667928",
     "exception": false,
     "start_time": "2024-09-15T16:21:14.658728",
     "status": "completed"
    },
    "tags": []
   },
   "source": [
    "# Export png from dcm\n",
    ".dcm format files have various pixel values and image shapes. To use them in a deep learning framework, we will make the values ​​fall within a certain range and resize the shapes to 512px."
   ]
  },
  {
   "cell_type": "code",
   "execution_count": 9,
   "id": "c91840d9",
   "metadata": {
    "execution": {
     "iopub.execute_input": "2024-09-15T16:21:14.689922Z",
     "iopub.status.busy": "2024-09-15T16:21:14.688965Z",
     "iopub.status.idle": "2024-09-15T16:21:14.697162Z",
     "shell.execute_reply": "2024-09-15T16:21:14.695520Z"
    },
    "papermill": {
     "duration": 0.022406,
     "end_time": "2024-09-15T16:21:14.700146",
     "exception": false,
     "start_time": "2024-09-15T16:21:14.677740",
     "status": "completed"
    },
    "tags": []
   },
   "outputs": [],
   "source": [
    "def imread_and_imwirte(src_path, dst_path):\n",
    "    dicom_data = pydicom.dcmread(src_path)\n",
    "    image = dicom_data.pixel_array\n",
    "    image = (image - image.min()) / (image.max() - image.min() +1e-6) * 255\n",
    "    img = cv2.resize(image, (512, 512),interpolation=cv2.INTER_CUBIC)\n",
    "    assert img.shape==(512,512)\n",
    "    cv2.imwrite(dst_path, img)"
   ]
  },
  {
   "cell_type": "code",
   "execution_count": 10,
   "id": "afa31871",
   "metadata": {
    "execution": {
     "iopub.execute_input": "2024-09-15T16:21:14.721255Z",
     "iopub.status.busy": "2024-09-15T16:21:14.720809Z",
     "iopub.status.idle": "2024-09-15T16:21:14.731884Z",
     "shell.execute_reply": "2024-09-15T16:21:14.730607Z"
    },
    "papermill": {
     "duration": 0.024742,
     "end_time": "2024-09-15T16:21:14.734592",
     "exception": false,
     "start_time": "2024-09-15T16:21:14.709850",
     "status": "completed"
    },
    "tags": []
   },
   "outputs": [
    {
     "data": {
      "text/plain": [
       "(array([4003253, 4646740, 7143189]), 1975)"
      ]
     },
     "execution_count": 10,
     "metadata": {},
     "output_type": "execute_result"
    }
   ],
   "source": [
    "st_ids = df['study_id'].unique()\n",
    "st_ids[:3], len(st_ids)"
   ]
  },
  {
   "cell_type": "code",
   "execution_count": 11,
   "id": "a0db67f7",
   "metadata": {
    "execution": {
     "iopub.execute_input": "2024-09-15T16:21:14.756076Z",
     "iopub.status.busy": "2024-09-15T16:21:14.755700Z",
     "iopub.status.idle": "2024-09-15T16:21:14.765973Z",
     "shell.execute_reply": "2024-09-15T16:21:14.764732Z"
    },
    "papermill": {
     "duration": 0.023943,
     "end_time": "2024-09-15T16:21:14.768458",
     "exception": false,
     "start_time": "2024-09-15T16:21:14.744515",
     "status": "completed"
    },
    "tags": []
   },
   "outputs": [
    {
     "data": {
      "text/plain": [
       "['Sagittal T2/STIR', 'Sagittal T1', 'Axial T2']"
      ]
     },
     "execution_count": 11,
     "metadata": {},
     "output_type": "execute_result"
    }
   ],
   "source": [
    "desc = list(df['series_description'].unique())\n",
    "desc"
   ]
  },
  {
   "cell_type": "code",
   "execution_count": 12,
   "id": "7e13372c",
   "metadata": {
    "execution": {
     "iopub.execute_input": "2024-09-15T16:21:14.791617Z",
     "iopub.status.busy": "2024-09-15T16:21:14.790172Z",
     "iopub.status.idle": "2024-09-15T17:23:42.380739Z",
     "shell.execute_reply": "2024-09-15T17:23:42.377370Z"
    },
    "papermill": {
     "duration": 3747.60998,
     "end_time": "2024-09-15T17:23:42.388408",
     "exception": false,
     "start_time": "2024-09-15T16:21:14.778428",
     "status": "completed"
    },
    "tags": []
   },
   "outputs": [
    {
     "name": "stderr",
     "output_type": "stream",
     "text": [
      " 57%|█████▋    | 1126/1975 [35:48<22:42,  1.61s/it]"
     ]
    },
    {
     "name": "stdout",
     "output_type": "stream",
     "text": [
      "2492114990 Sagittal T1 has no images\n"
     ]
    },
    {
     "name": "stderr",
     "output_type": "stream",
     "text": [
      " 64%|██████▍   | 1272/1975 [40:14<19:07,  1.63s/it]"
     ]
    },
    {
     "name": "stdout",
     "output_type": "stream",
     "text": [
      "2780132468 Sagittal T1 has no images\n"
     ]
    },
    {
     "name": "stderr",
     "output_type": "stream",
     "text": [
      " 70%|██████▉   | 1378/1975 [43:38<15:46,  1.58s/it]"
     ]
    },
    {
     "name": "stdout",
     "output_type": "stream",
     "text": [
      "3008676218 Sagittal T2/STIR has no images\n"
     ]
    },
    {
     "name": "stderr",
     "output_type": "stream",
     "text": [
      "100%|██████████| 1975/1975 [1:02:27<00:00,  1.90s/it]\n"
     ]
    }
   ],
   "source": [
    "for idx, si in enumerate(tqdm(st_ids, total=len(st_ids))):\n",
    "    pdf = df[df['study_id']==si]\n",
    "    for ds in desc:\n",
    "        ds_ = ds.replace('/', '_')\n",
    "        pdf_ = pdf[pdf['series_description']==ds]\n",
    "        os.makedirs(f'cvt_png/{si}/{ds_}', exist_ok=True)\n",
    "        allimgs = []\n",
    "        for i, row in pdf_.iterrows():\n",
    "            pimgs = glob.glob(f'{rd}/train_images/{row[\"study_id\"]}/{row[\"series_id\"]}/*.dcm')\n",
    "            pimgs = sorted(pimgs, key=natural_keys)\n",
    "            allimgs.extend(pimgs)\n",
    "            \n",
    "        if len(allimgs)==0:\n",
    "            print(si, ds, 'has no images')\n",
    "            continue\n",
    "\n",
    "        if ds == 'Axial T2':\n",
    "            for j, impath in enumerate(allimgs):\n",
    "                dst = f'cvt_png/{si}/{ds}/{j:03d}.png'\n",
    "                imread_and_imwirte(impath, dst)\n",
    "                \n",
    "        elif ds == 'Sagittal T2/STIR':\n",
    "            \n",
    "            step = len(allimgs) / 10.0\n",
    "            st = len(allimgs)/2.0 - 4.0*step\n",
    "            end = len(allimgs)+0.0001\n",
    "            for j, i in enumerate(np.arange(st, end, step)):\n",
    "                dst = f'cvt_png/{si}/{ds_}/{j:03d}.png'\n",
    "                ind2 = max(0, int((i-0.5001).round()))\n",
    "                imread_and_imwirte(allimgs[ind2], dst)\n",
    "                \n",
    "            assert len(glob.glob(f'cvt_png/{si}/{ds_}/*.png'))==10\n",
    "                \n",
    "        elif ds == 'Sagittal T1':\n",
    "            step = len(allimgs) / 10.0\n",
    "            st = len(allimgs)/2.0 - 4.0*step\n",
    "            end = len(allimgs)+0.0001\n",
    "            for j, i in enumerate(np.arange(st, end, step)):\n",
    "                dst = f'cvt_png/{si}/{ds}/{j:03d}.png'\n",
    "                ind2 = max(0, int((i-0.5001).round()))\n",
    "                imread_and_imwirte(allimgs[ind2], dst)\n",
    "                \n",
    "            assert len(glob.glob(f'cvt_png/{si}/{ds}/*.png'))==10"
   ]
  },
  {
   "cell_type": "code",
   "execution_count": null,
   "id": "37db34a5",
   "metadata": {
    "papermill": {
     "duration": 0.203218,
     "end_time": "2024-09-15T17:23:42.791126",
     "exception": false,
     "start_time": "2024-09-15T17:23:42.587908",
     "status": "completed"
    },
    "tags": []
   },
   "outputs": [],
   "source": []
  },
  {
   "cell_type": "markdown",
   "id": "597a9618",
   "metadata": {
    "papermill": {
     "duration": 0.200972,
     "end_time": "2024-09-15T17:23:43.188778",
     "exception": false,
     "start_time": "2024-09-15T17:23:42.987806",
     "status": "completed"
    },
    "tags": []
   },
   "source": [
    "# Continuing with the [Training Baseline...](https://www.kaggle.com/code/itsuki9180/rsna2024-lsdc-training-baseline)"
   ]
  },
  {
   "cell_type": "code",
   "execution_count": 13,
   "id": "0ee7a40c",
   "metadata": {
    "execution": {
     "iopub.execute_input": "2024-09-15T17:23:43.599023Z",
     "iopub.status.busy": "2024-09-15T17:23:43.598524Z",
     "iopub.status.idle": "2024-09-15T17:23:44.870516Z",
     "shell.execute_reply": "2024-09-15T17:23:44.868813Z"
    },
    "papermill": {
     "duration": 1.478834,
     "end_time": "2024-09-15T17:23:44.873509",
     "exception": false,
     "start_time": "2024-09-15T17:23:43.394675",
     "status": "completed"
    },
    "tags": []
   },
   "outputs": [],
   "source": [
    "!cd /kaggle/working"
   ]
  },
  {
   "cell_type": "code",
   "execution_count": null,
   "id": "eb7dd746",
   "metadata": {
    "papermill": {
     "duration": 0.196805,
     "end_time": "2024-09-15T17:23:45.269237",
     "exception": false,
     "start_time": "2024-09-15T17:23:45.072432",
     "status": "completed"
    },
    "tags": []
   },
   "outputs": [],
   "source": []
  },
  {
   "cell_type": "code",
   "execution_count": 14,
   "id": "37ab9672",
   "metadata": {
    "collapsed": true,
    "execution": {
     "iopub.execute_input": "2024-09-15T17:23:45.676374Z",
     "iopub.status.busy": "2024-09-15T17:23:45.674911Z",
     "iopub.status.idle": "2024-09-15T17:23:45.681706Z",
     "shell.execute_reply": "2024-09-15T17:23:45.680231Z"
    },
    "jupyter": {
     "outputs_hidden": true
    },
    "papermill": {
     "duration": 0.211595,
     "end_time": "2024-09-15T17:23:45.684519",
     "exception": false,
     "start_time": "2024-09-15T17:23:45.472924",
     "status": "completed"
    },
    "tags": []
   },
   "outputs": [],
   "source": [
    "# !zip -r file.zip /kaggle/working/cvt_png"
   ]
  },
  {
   "cell_type": "code",
   "execution_count": 15,
   "id": "edb97fc7",
   "metadata": {
    "execution": {
     "iopub.execute_input": "2024-09-15T17:23:46.171374Z",
     "iopub.status.busy": "2024-09-15T17:23:46.170847Z",
     "iopub.status.idle": "2024-09-15T17:23:46.176539Z",
     "shell.execute_reply": "2024-09-15T17:23:46.175244Z"
    },
    "papermill": {
     "duration": 0.292668,
     "end_time": "2024-09-15T17:23:46.179725",
     "exception": false,
     "start_time": "2024-09-15T17:23:45.887057",
     "status": "completed"
    },
    "tags": []
   },
   "outputs": [],
   "source": [
    "# import shutil\n",
    "# shutil.make_archive(\"train\", 'zip',\"/kaggle/working/cvt_png\" )"
   ]
  },
  {
   "cell_type": "code",
   "execution_count": null,
   "id": "a3100d32",
   "metadata": {
    "papermill": {
     "duration": 0.194571,
     "end_time": "2024-09-15T17:23:46.579967",
     "exception": false,
     "start_time": "2024-09-15T17:23:46.385396",
     "status": "completed"
    },
    "tags": []
   },
   "outputs": [],
   "source": []
  }
 ],
 "metadata": {
  "kaggle": {
   "accelerator": "none",
   "dataSources": [
    {
     "databundleVersionId": 8561470,
     "sourceId": 71549,
     "sourceType": "competition"
    }
   ],
   "dockerImageVersionId": 30732,
   "isGpuEnabled": false,
   "isInternetEnabled": true,
   "language": "python",
   "sourceType": "notebook"
  },
  "kernelspec": {
   "display_name": "Python 3",
   "language": "python",
   "name": "python3"
  },
  "language_info": {
   "codemirror_mode": {
    "name": "ipython",
    "version": 3
   },
   "file_extension": ".py",
   "mimetype": "text/x-python",
   "name": "python",
   "nbconvert_exporter": "python",
   "pygments_lexer": "ipython3",
   "version": "3.10.13"
  },
  "papermill": {
   "default_parameters": {},
   "duration": 3759.441154,
   "end_time": "2024-09-15T17:23:48.018395",
   "environment_variables": {},
   "exception": null,
   "input_path": "__notebook__.ipynb",
   "output_path": "__notebook__.ipynb",
   "parameters": {},
   "start_time": "2024-09-15T16:21:08.577241",
   "version": "2.5.0"
  }
 },
 "nbformat": 4,
 "nbformat_minor": 5
}
